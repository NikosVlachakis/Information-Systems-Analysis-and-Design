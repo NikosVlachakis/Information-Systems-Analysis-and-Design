{
 "cells": [
  {
   "cell_type": "code",
   "execution_count": 19,
   "metadata": {},
   "outputs": [],
   "source": [
    "import pandas as pd\n",
    "import numpy as np\n",
    "from sklearn.model_selection import train_test_split\n",
    "from sklearn.linear_model import LinearRegression,ElasticNet\n",
    "from sklearn.ensemble import RandomForestRegressor,GradientBoostingRegressor\n",
    "from sklearn.pipeline import Pipeline\n",
    "from sklearn.preprocessing import MinMaxScaler\n",
    "from sklearn.impute import SimpleImputer\n",
    "from sklearn.model_selection import GridSearchCV\n",
    "from sklearn.metrics import r2_score,mean_absolute_error\n",
    "from  sklearn.feature_selection import VarianceThreshold\n",
    "from warnings import filterwarnings\n",
    "filterwarnings('ignore')\n",
    "import matplotlib.pyplot as plt\n",
    "from sklearn.multioutput import MultiOutputRegressor\n"
   ]
  },
  {
   "attachments": {},
   "cell_type": "markdown",
   "metadata": {},
   "source": [
    "### Dataset split\n",
    "\n",
    "- **Splitting method:** We used the train_test_split function from sklearn.model_selection to split the dataset into training and testing sets. We used a 70/30 split, meaning that 70% of the dataset was used for training and 30% for testing.\n"
   ]
  },
  {
   "cell_type": "code",
   "execution_count": 20,
   "metadata": {},
   "outputs": [],
   "source": [
    "# read the data\n",
    "data = pd.read_csv(\"random_forest.csv\")\n",
    "\n",
    "# select the features and targets\n",
    "features = ['num_samples', 'num_features', 'dataset_size']\n",
    "targets = ['Memory Usage','Total Time']\n",
    "\n",
    "# assign the features and targets to X and y\n",
    "X = data[features]\n",
    "y = data[targets]\n",
    "\n",
    "# split the data into train and test sets\n",
    "X_train, X_test, y_train, y_test = train_test_split(X, y, test_size=0.3)"
   ]
  },
  {
   "attachments": {},
   "cell_type": "markdown",
   "metadata": {},
   "source": [
    "#### Pipeline\n",
    "\n",
    "- **Pipeline:** We created a pipeline that applies the data preprocessing steps and then fits the model to the training data."
   ]
  },
  {
   "cell_type": "code",
   "execution_count": 21,
   "metadata": {},
   "outputs": [],
   "source": [
    "# create pipelines for all the models\n",
    "\n",
    "# pipeline for random forest regressor\n",
    "RandomForestRegressor_pipeline = Pipeline([\n",
    "    ('imputer', SimpleImputer(strategy='median')),\n",
    "    ('scaler', MinMaxScaler()),\n",
    "    ('variance', VarianceThreshold()),\n",
    "    ('model', MultiOutputRegressor(RandomForestRegressor()))\n",
    "])\n",
    "\n",
    "# pipeline for linear regression model\n",
    "LinearRegression_pipeline = Pipeline([\n",
    "    ('imputer', SimpleImputer(strategy='median')),\n",
    "    ('scaler', MinMaxScaler()),\n",
    "    ('variance', VarianceThreshold()),\n",
    "    ('model', MultiOutputRegressor(LinearRegression()))\n",
    "])\n",
    "\n",
    "# pipeline for elastic net model\n",
    "ElasticNet_pipeline = Pipeline([\n",
    "    ('imputer', SimpleImputer(strategy='median')),\n",
    "    ('scaler', MinMaxScaler()),\n",
    "    ('variance', VarianceThreshold()),\n",
    "    ('model', MultiOutputRegressor(ElasticNet()))\n",
    "])\n",
    "\n",
    "# pipeline for GradientBoostingRegressor model\n",
    "GradientBoostingRegressor_pipeline = Pipeline([\n",
    "    ('imputer', SimpleImputer(strategy='median')),\n",
    "    ('scaler', MinMaxScaler()),\n",
    "    ('variance', VarianceThreshold()),\n",
    "    ('model', MultiOutputRegressor(GradientBoostingRegressor()))\n",
    "])\n",
    "\n"
   ]
  },
  {
   "attachments": {},
   "cell_type": "markdown",
   "metadata": {},
   "source": [
    "- **Parameter Grid:** We used a parameter grid to search for the best parameters for each of the models. We used the GridSearchCV function from sklearn.model_selection to search for the best parameters. We used the following parameters for each model:\n",
    "\n",
    "    - **Random Forest:** We used the following parameters for the random forest model: n_estimators, max_depth, min_samples_split and min_samples_leaf.\n",
    "\n",
    "    - **Linear Regression:** We used the following parameters for the linear regression model: fit_intercept, normalize, and copy_X.\n",
    "\n",
    "    - **Elastic Net:** We used the following parameters for the elastic net model: alpha, l1_ratio, fit_intercept and normalize.\n",
    "\n",
    "    - **Gradient Boosting:** We used the following parameters for the gradient boosting model: n_estimators, learning_rate, max_depth, min_samples_split and min_samples_leaf."
   ]
  },
  {
   "cell_type": "code",
   "execution_count": 22,
   "metadata": {},
   "outputs": [],
   "source": [
    "# list of parameter grid for all the models\n",
    "param_grid = [\n",
    "    {\n",
    "        'model__estimator__n_estimators': [100, 200, 300],\n",
    "        'model__estimator__max_depth': [5, 10, 15],\n",
    "        'model__estimator__min_samples_split': [2, 5, 10],\n",
    "        'model__estimator__min_samples_leaf': [1, 2, 4],\n",
    "    },\n",
    "    {\n",
    "        'model__estimator__fit_intercept': [True, False],\n",
    "        'model__estimator__normalize': [True, False],\n",
    "        'model__estimator__copy_X': [True, False],\n",
    "    },\n",
    "    {\n",
    "        'model__estimator__alpha': [0.1, 0.5, 1.0],\n",
    "        'model__estimator__l1_ratio': [0.1, 0.5, 1.0],\n",
    "        'model__estimator__fit_intercept': [True, False],\n",
    "        'model__estimator__normalize': [True, False],\n",
    "    },\n",
    "    {\n",
    "        'model__estimator__n_estimators': [100, 200, 300],\n",
    "        'model__estimator__max_depth': [5, 10, 15],\n",
    "        'model__estimator__min_samples_split': [2, 5, 10],\n",
    "        'model__estimator__min_samples_leaf': [1, 2, 4],\n",
    "        'model__estimator__learning_rate': [0.1, 0.05, 0.01],\n",
    "    },\n",
    "   \n",
    "]"
   ]
  },
  {
   "cell_type": "code",
   "execution_count": 23,
   "metadata": {},
   "outputs": [],
   "source": [
    "\n",
    "\n",
    "# create a dictionary of all the pipelines and their respective parameter grids\n",
    "grid_dict = {   0: {'pipeline': RandomForestRegressor_pipeline, 'param_grid': param_grid[0]},\n",
    "                1: {'pipeline': LinearRegression_pipeline, 'param_grid': param_grid[1]},\n",
    "                2: {'pipeline': ElasticNet_pipeline, 'param_grid': param_grid[2]},\n",
    "                3: {'pipeline': GradientBoostingRegressor_pipeline, 'param_grid': param_grid[3]},\n",
    "            }\n"
   ]
  },
  {
   "attachments": {},
   "cell_type": "markdown",
   "metadata": {},
   "source": [
    "#### GridSearchCV\n",
    "\n",
    "- **GridSearchCV:** We utilized the pipelines that we previously declared and we used GridSearchCV to find the optimal hyperparameters for each Regression model. \n"
   ]
  },
  {
   "cell_type": "code",
   "execution_count": null,
   "metadata": {},
   "outputs": [],
   "source": [
    "\n",
    "# Create a data_table df to store the results\n",
    "data_table = pd.DataFrame(columns=['Regressor', 'Total Time_R2 Score', 'Total Time_MAE', 'Memory Usage_R2 Score', 'Memory Usage_MAE'])\n",
    "\n",
    "# Grid search for all the pipelines\n",
    "for i, (regressor, pipeline) in enumerate(grid_dict.items()):\n",
    "    # create a grid search object\n",
    "    grid = GridSearchCV(pipeline['pipeline'], param_grid=pipeline['param_grid'], cv=5, n_jobs=-1, verbose=1)\n",
    "    # fit the grid search\n",
    "    grid.fit(X_train, y_train)\n",
    "    # do the predictions for the test set\n",
    "    y_pred = grid.predict(X_test)\n",
    "\n",
    "    # get the R2 score and mean absolute error for each target variable\n",
    "    r2_score_total_time = r2_score(y_test['Total Time'], y_pred[:, 1])\n",
    "    mae_total_time = mean_absolute_error(y_test['Total Time'], y_pred[:, 1])\n",
    "    r2_score_memory_usage = r2_score(y_test['Memory Usage'], y_pred[:, 0])\n",
    "    mae_memory_usage = mean_absolute_error(y_test['Memory Usage'], y_pred[:, 0])\n",
    "\n",
    "    # add the results to the data_table dataframe\n",
    "    data_table.loc[i] = [grid.best_estimator_.named_steps['model'].estimator.__class__.__name__, r2_score_total_time, mae_total_time, r2_score_memory_usage, mae_memory_usage]\n",
    "\n"
   ]
  },
  {
   "cell_type": "code",
   "execution_count": 37,
   "metadata": {},
   "outputs": [
    {
     "data": {
      "image/png": "[encoded data removed]",
      "text/plain": [
       "<Figure size 1500x500 with 2 Axes>"
      ]
     },
     "metadata": {},
     "output_type": "display_data"
    },
    {
     "data": {
      "image/png": "[encoded data removed]",
      "text/plain": [
       "<Figure size 1500x500 with 2 Axes>"
      ]
     },
     "metadata": {},
     "output_type": "display_data"
    },
    {
     "data": {
      "text/markdown": [
       "|    | Regressor   |   Total Time_R2 Score |   Total Time_MAE |   Memory Usage_R2 Score |   Memory Usage_MAE | Regressor_short   |\n",
       "|---:|:------------|----------------------:|-----------------:|------------------------:|-------------------:|:------------------|\n",
       "|  0 | RFR         |              0.945044 |          2.12631 |                0.843236 |        5.24331e+07 | RFR               |\n",
       "|  1 | LR          |              0.838719 |          5.81443 |                0.720541 |        6.7663e+07  | LR                |\n",
       "|  2 | EN          |              0.837955 |          5.31273 |                0.720541 |        6.7663e+07  | EN                |\n",
       "|  3 | GBR         |              0.908199 |          2.54817 |                0.785475 |        5.70025e+07 | GBR               |"
      ],
      "text/plain": [
       "<IPython.core.display.Markdown object>"
      ]
     },
     "execution_count": 37,
     "metadata": {},
     "output_type": "execute_result"
    }
   ],
   "source": [
    "from IPython.display import Markdown as md\n",
    "\n",
    "name_map = {\n",
    "    'RandomForestRegressor': 'RFR',\n",
    "    'GradientBoostingRegressor': 'GBR',\n",
    "    'LinearRegression': 'LR',\n",
    "    'ElasticNet': 'EN',\n",
    "}\n",
    "\n",
    "# create a new column with the shorter names\n",
    "data_table['Regressor'] = data_table['Regressor'].apply(lambda x: name_map.get(x, x))\n",
    "\n",
    "# Display the results in a graph for Total Time R2 Score\n",
    "fig, ax = plt.subplots(1, 2, figsize=(15, 5))\n",
    "data_table.plot(x='Regressor', y='Total Time_R2 Score', kind='bar', ax=ax[0])\n",
    "plt.ylabel('R2 Score')\n",
    "ax[0].set_xticklabels(ax[0].get_xticklabels(), rotation=90)\n",
    "ax[0].set_ylim([0,1])\n",
    "ax[0].set_yticks(np.arange(0, 1.1, 0.1))\n",
    "\n",
    "# Display the results in a graph for Total Time MAE\n",
    "data_table.plot(x='Regressor', y='Total Time_MAE', kind='bar', ax=ax[1])\n",
    "plt.ylabel('MAE')\n",
    "ax[1].set_xticklabels(ax[1].get_xticklabels(), rotation=90)\n",
    "\n",
    "plt.savefig('total_time_results.pdf', bbox_inches='tight')\n",
    "plt.show()\n",
    "# Display the results in a graph for Memory Usage R2 Score\n",
    "fig, ax = plt.subplots(1, 2, figsize=(15, 5))\n",
    "data_table.plot(x='Regressor', y='Memory Usage_R2 Score', kind='bar', ax=ax[0])\n",
    "plt.ylabel('R2 Score')\n",
    "ax[0].set_xticklabels(ax[0].get_xticklabels(), rotation=90)\n",
    "ax[0].set_ylim([0,1])\n",
    "ax[0].set_yticks(np.arange(0, 1.1, 0.1))\n",
    "\n",
    "# Display the results in a graph for Memory Usage MAE\n",
    "data_table.plot(x='Regressor', y='Memory Usage_MAE', kind='bar', ax=ax[1])\n",
    "plt.ylabel('MAE')\n",
    "ax[1].set_xticklabels(ax[1].get_xticklabels(), rotation=90)\n",
    "\n",
    "plt.savefig('memory_results.pdf', bbox_inches='tight')\n",
    "plt.show()\n",
    "\n",
    "\n",
    "\n",
    "# display the results of the classifiers in a markdown table\n",
    "markDownTableResults = data_table.to_markdown()\n",
    "md(markDownTableResults)\n"
   ]
  },
  {
   "attachments": {},
   "cell_type": "markdown",
   "metadata": {},
   "source": [
    "#### Result analysis\n",
    "\n",
    "- As we can see from the above results, the two Regressor models that have much better reults compared to the other models are the Random Forest Regressor and the Gradient Boosting Regressor. Both of them reach very high R2 scores and very low MAE, but the Random Forest Regressor is better than the Gradient Boosting Regressor. After running a significant number of tests, we found that the Random Forest Regressor has much more stable results among the different runs. For this reason, we decided to use the Random Forest Regressor as our final model.\n"
   ]
  }
 ],
 "metadata": {
  "kernelspec": {
   "display_name": "Python 3",
   "language": "python",
   "name": "python3"
  },
  "language_info": {
   "codemirror_mode": {
    "name": "ipython",
    "version": 3
   },
   "file_extension": ".py",
   "mimetype": "text/x-python",
   "name": "python",
   "nbconvert_exporter": "python",
   "pygments_lexer": "ipython3",
   "version": "3.10.8"
  },
  "orig_nbformat": 4,
  "vscode": {
   "interpreter": {
    "hash": "b0fa6594d8f4cbf19f97940f81e996739fb7646882a419484c72d19e05852a7e"
   }
  }
 },
 "nbformat": 4,
 "nbformat_minor": 2
}
